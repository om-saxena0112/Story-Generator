{
  "nbformat": 4,
  "nbformat_minor": 0,
  "metadata": {
    "colab": {
      "provenance": [],
      "authorship_tag": "ABX9TyM/liKBD7SDM20D5spVIV5d",
      "include_colab_link": true
    },
    "kernelspec": {
      "name": "python3",
      "display_name": "Python 3"
    },
    "language_info": {
      "name": "python"
    }
  },
  "cells": [
    {
      "cell_type": "markdown",
      "metadata": {
        "id": "view-in-github",
        "colab_type": "text"
      },
      "source": [
        "<a href=\"https://colab.research.google.com/github/om-saxena0112/Story-Generator/blob/main/Story_generator__Crafter.ipynb\" target=\"_parent\"><img src=\"https://colab.research.google.com/assets/colab-badge.svg\" alt=\"Open In Colab\"/></a>"
      ]
    },
    {
      "cell_type": "markdown",
      "source": [
        "StoryCrafter – Short Story Generator for Kids"
      ],
      "metadata": {
        "id": "-Bt7mEpH3WZG"
      }
    },
    {
      "cell_type": "markdown",
      "source": [
        "StoryCrafter is a fun and educational Generative AI tool designed especially for kids. It lets users input a theme (e.g., adventure, kindness), a character (e.g., unicorn, robot), and a location (e.g., forest, space), and then uses a pre-trained GPT-2 model from Hugging Face to generate a unique and engaging short story. The application is built using: Transformers library (for GPT-2 story generation) Gradio (for a simple and interactive web UI) Google Colab / Python (for backend development and deployment) This project aims to promote creativity and imagination among children while showcasing the power of natural language generation."
      ],
      "metadata": {
        "id": "q5TthOEW3yxy"
      }
    },
    {
      "cell_type": "code",
      "source": [
        "!pip install transformers gradio torch --quiet"
      ],
      "metadata": {
        "id": "S_GEgNRL3157"
      },
      "execution_count": 6,
      "outputs": []
    },
    {
      "cell_type": "code",
      "source": [
        "from transformers import pipeline, set_seed\n",
        "\n",
        "# Load GPT-2 Story Generation Pipeline\n",
        "story_generator =  pipeline(\"text-generation\", model=\"gpt2\")\n",
        "set_seed(42)   # For Reproducible results"
      ],
      "metadata": {
        "colab": {
          "base_uri": "https://localhost:8080/"
        },
        "id": "j0CA4L3S4hab",
        "outputId": "60814929-85c3-4707-cfb9-9cab6073f844"
      },
      "execution_count": 7,
      "outputs": [
        {
          "output_type": "stream",
          "name": "stderr",
          "text": [
            "Device set to use cpu\n"
          ]
        }
      ]
    },
    {
      "cell_type": "markdown",
      "source": [
        "this fucntion takes useer inputs (theme,character and location) and builds a creative story prompt for GPT-2 to expand"
      ],
      "metadata": {
        "id": "ZtHqNj315tuQ"
      }
    },
    {
      "cell_type": "code",
      "source": [
        "def generate_story(theme, character, location):\n",
        "    prompt = f\"Once upon a time in a {location}, there lived a {character} who loved {theme}. one day,\"\n",
        "    sroty = story_generator(prompt, max_length=200, num_return_sequences=1)[0]['generated_text']\n",
        "    return sroty"
      ],
      "metadata": {
        "id": "0HSQpdpl5s0N"
      },
      "execution_count": 8,
      "outputs": []
    },
    {
      "cell_type": "code",
      "source": [
        "import gradio as gr\n",
        "\n",
        "iface = gr.Interface(\n",
        "    fn=generate_story,\n",
        "    inputs=[\n",
        "        gr.Textbox(label=\"Theme (e.g, adventure, kindness, magic)\"),\n",
        "        gr.Textbox(label=\"Main Character (e.g, unicorn, robot, fairy)\"),\n",
        "        gr.Textbox(label=\"Location (e.g, enhanced forest, outer space, jungle)\"),\n",
        "    ],\n",
        "    outputs=gr.Textbox(label=\"Generated Story\"),\n",
        "    title=\"StoryCrafter - Short Story Generator for Kids\",\n",
        "    description=\"Enter a theme, character, and location to generate a magical story for children!\"\n",
        ")"
      ],
      "metadata": {
        "id": "j0ND9kWE7Wac"
      },
      "execution_count": 9,
      "outputs": []
    },
    {
      "cell_type": "markdown",
      "source": [
        "this step will launch the app in Colab and give you a shareble link: After running, you will get the public url"
      ],
      "metadata": {
        "id": "ThhDqoKm81yJ"
      }
    },
    {
      "cell_type": "code",
      "source": [
        "iface.launch(share=True)"
      ],
      "metadata": {
        "colab": {
          "base_uri": "https://localhost:8080/",
          "height": 613
        },
        "id": "lWxVbHyZ8mP-",
        "outputId": "2ebaadca-8084-416e-9ddd-efe2a175b6ff"
      },
      "execution_count": 10,
      "outputs": [
        {
          "output_type": "stream",
          "name": "stdout",
          "text": [
            "Colab notebook detected. To show errors in colab notebook, set debug=True in launch()\n",
            "* Running on public URL: https://e8e6371e0650bcee3f.gradio.live\n",
            "\n",
            "This share link expires in 1 week. For free permanent hosting and GPU upgrades, run `gradio deploy` from the terminal in the working directory to deploy to Hugging Face Spaces (https://huggingface.co/spaces)\n"
          ]
        },
        {
          "output_type": "display_data",
          "data": {
            "text/plain": [
              "<IPython.core.display.HTML object>"
            ],
            "text/html": [
              "<div><iframe src=\"https://e8e6371e0650bcee3f.gradio.live\" width=\"100%\" height=\"500\" allow=\"autoplay; camera; microphone; clipboard-read; clipboard-write;\" frameborder=\"0\" allowfullscreen></iframe></div>"
            ]
          },
          "metadata": {}
        },
        {
          "output_type": "execute_result",
          "data": {
            "text/plain": []
          },
          "metadata": {},
          "execution_count": 10
        }
      ]
    }
  ]
}